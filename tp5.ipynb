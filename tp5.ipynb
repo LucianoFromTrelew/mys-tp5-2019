{
 "cells": [
  {
   "cell_type": "markdown",
   "metadata": {},
   "source": [
    "## Trabajo práctico N5\n",
    "### Modelos y Simulaciones - 2019\n",
    "### Cátedra:\n",
    "\n",
    "- Lic. Claudia López de Munain\n",
    "- Lic. Bruno Alfredo Pazos\n",
    "\n",
    "#### Integrantes:\n",
    "\n",
    "- De Marco Andrada, Emiliano\n",
    "- Perdomo, Luciano\n",
    "- Serruya Aloisi, Luciano\n",
    "- Toledo Margalef, Pablo"
   ]
  },
  {
   "cell_type": "markdown",
   "metadata": {},
   "source": [
    "**1**. Suponga que tres amigos quieren cocinar tocino, huevos y tostadas para el desayuno de algunos visitantes del fin de semana. Ellos dividen el trabajo, con la preparación de un artículo por amigo. Se presenta la secuencia de las actividades con la ruta de acceso que representan las tareas para una persona de la siguiente manera\n",
    "\n",
    "- Acceso superior\n",
    "    - Inicio -> A\n",
    "    - A -> B\n",
    "    - B -> C\n",
    "    - C -> Fin\n",
    "- Acceso medio\n",
    "    - Inicio -> D\n",
    "    - D -> Fin\n",
    "- Acceso inferior\n",
    "    - Inicio -> E\n",
    "    - E -> Fin\n",
    "    \n",
    "|Referencia       |Tarea                          |Demora                         |\n",
    "|----------------|-------------------------------|-----------------------------|\n",
    "|A|Romper huevos|U(2, 4)|\n",
    "|B|Revolver huevos|U(3, 6)|\n",
    "|C|Cocinar huevos|U(2, 5)|\n",
    "|D|Hacer tostadas|U(3, 6)|\n",
    "|E|Freir tocino|U(4, 14)|"
   ]
  },
  {
   "cell_type": "code",
   "execution_count": 1,
   "metadata": {},
   "outputs": [],
   "source": [
    "import numpy as np\n",
    "import seaborn as sns"
   ]
  },
  {
   "cell_type": "code",
   "execution_count": 2,
   "metadata": {},
   "outputs": [],
   "source": [
    "MAX_EXPERIMENTOS=30\n",
    "MAX_CORRIDAS=100\n",
    "ACCESO_SUPERIOR=\"Acceso superior\"\n",
    "ACCESO_MEDIO=\"Acceso medio\"\n",
    "ACCESO_INFERIOR=\"Acceso inferior\""
   ]
  },
  {
   "cell_type": "code",
   "execution_count": 3,
   "metadata": {},
   "outputs": [],
   "source": [
    "def get_confidence_interval(n, mean, std, z_value=1.96, std_mult=1):\n",
    "    ci = z_value * ((std_mult * std) / (n ** 0.5))\n",
    "    return mean+ci, mean-ci"
   ]
  },
  {
   "cell_type": "code",
   "execution_count": 5,
   "metadata": {},
   "outputs": [
    {
     "name": "stdout",
     "output_type": "stream",
     "text": [
      "El promedio muestral tiene un margen de error de [24.253885254483116, 24.563342684319444] con respecto al promedio poblacional (99% de probabilidad)\n",
      "Porcentaje de criticidad en 30 experimentos de 100 corridas cada uno\n",
      "Acceso superior => 70.7\n",
      "Acceso medio => 0.0\n",
      "Acceso inferior => 29.3\n"
     ]
    }
   ],
   "source": [
    "contador_as = 0\n",
    "contador_am = 0\n",
    "contador_ai = 0\n",
    "duracion_proyectos = []\n",
    "duracion_proyectos_promedio_por_experimento = []\n",
    "promedio_total = 0\n",
    "\n",
    "for _ in range(MAX_EXPERIMENTOS):\n",
    "    promedio_por_experimento = 0\n",
    "    for _ in range(MAX_CORRIDAS):\n",
    "        tarea_a = np.random.uniform(low=2, high=4)\n",
    "        tarea_b = np.random.uniform(low=3, high=6)\n",
    "        tarea_c = np.random.uniform(low=2, high=5)\n",
    "        tarea_d = np.random.uniform(low=3, high=6)\n",
    "        tarea_e = np.random.uniform(low=4, high=14)\n",
    "        \n",
    "        acceso_superior = (tarea_a, tarea_b, tarea_c)\n",
    "        acceso_medio = (tarea_d,)\n",
    "        acceso_inferior = (tarea_e,)\n",
    "        \n",
    "        proyecto = {\n",
    "            ACCESO_SUPERIOR: acceso_superior,\n",
    "            ACCESO_MEDIO: acceso_medio,\n",
    "            ACCESO_INFERIOR: acceso_inferior\n",
    "        }\n",
    "        \n",
    "        # La duración del proyecto es la suma del tiempo de demora de todas las tareas\n",
    "        duracion_proyecto = sum(\n",
    "            (sum(acceso) for acceso in (acceso_superior, acceso_medio, acceso_inferior))\n",
    "        )\n",
    "        \n",
    "        promedio_por_experimento += duracion_proyecto\n",
    "        duracion_proyectos.append(duracion_proyecto)\n",
    "        \n",
    "        # El camino crítico es la ruta de tareas que demoran más tiempo en realizarse\n",
    "        camino_critico = max(proyecto, key=lambda acceso: sum(proyecto[acceso]))\n",
    "        \n",
    "        if camino_critico == ACCESO_SUPERIOR:\n",
    "            contador_as += 1\n",
    "            continue\n",
    "        if camino_critico == ACCESO_MEDIO:\n",
    "            contador_am += 1\n",
    "            continue\n",
    "        if camino_critico == ACCESO_INFERIOR:\n",
    "            contador_ai += 1\n",
    "            continue\n",
    "    duracion_proyectos_promedio_por_experimento.append(promedio_por_experimento/MAX_CORRIDAS)\n",
    "\n",
    "intervalo_confianza_max, intervalo_confianza_min = get_confidence_interval(\n",
    "    len(duracion_proyectos), \n",
    "    np.mean(duracion_proyectos), \n",
    "    np.std(duracion_proyectos),\n",
    "    z_value=2.57\n",
    ")\n",
    "print(f\"El promedio muestral tiene un margen de error de [{intervalo_confianza_min}, {intervalo_confianza_max}] \\\n",
    "con respecto al promedio poblacional (99% de probabilidad)\")\n",
    "print(f\"Porcentaje de criticidad en {MAX_EXPERIMENTOS} experimentos de {MAX_CORRIDAS} corridas cada uno\")\n",
    "print(f\"Acceso superior => {(contador_as * 100) / (MAX_EXPERIMENTOS * MAX_CORRIDAS)}\")\n",
    "print(f\"Acceso medio => {(contador_am * 100) / (MAX_EXPERIMENTOS * MAX_CORRIDAS)}\")\n",
    "print(f\"Acceso inferior => {(contador_ai * 100) / (MAX_EXPERIMENTOS * MAX_CORRIDAS)}\")"
   ]
  },
  {
   "cell_type": "code",
   "execution_count": 8,
   "metadata": {
    "scrolled": true
   },
   "outputs": [
    {
     "data": {
      "text/plain": [
       "<matplotlib.axes._subplots.AxesSubplot at 0x7f2a7e1e12e8>"
      ]
     },
     "execution_count": 8,
     "metadata": {},
     "output_type": "execute_result"
    },
    {
     "data": {
      "image/png": "[encoded data removed]",
      "text/plain": [
       "<Figure size 432x288 with 1 Axes>"
      ]
     },
     "metadata": {
      "needs_background": "light"
     },
     "output_type": "display_data"
    }
   ],
   "source": [
    "sns.distplot(duracion_proyectos)"
   ]
  },
  {
   "cell_type": "code",
   "execution_count": 9,
   "metadata": {},
   "outputs": [
    {
     "data": {
      "text/plain": [
       "<matplotlib.axes._subplots.AxesSubplot at 0x7f2a7e18e978>"
      ]
     },
     "execution_count": 9,
     "metadata": {},
     "output_type": "execute_result"
    },
    {
     "data": {
      "image/png": "[encoded data removed]",
      "text/plain": [
       "<Figure size 432x288 with 1 Axes>"
      ]
     },
     "metadata": {
      "needs_background": "light"
     },
     "output_type": "display_data"
    }
   ],
   "source": [
    "sns.distplot(duracion_proyectos_promedio_por_experimento)"
   ]
  },
  {
   "cell_type": "markdown",
   "metadata": {},
   "source": [
    "**2**. Dos operarios de un lavadero de autos se dividen las tareas al momento de comenzar con un nuevo trabajo. La secuencia es la siguiente:\n",
    "\n",
    "- Acceso superior\n",
    "    - Inicio -> A\n",
    "    - A -> B\n",
    "    - B -> C\n",
    "    - C -> Fin\n",
    "- Acceso medio\n",
    "    - A -> D\n",
    "    - D -> E\n",
    "    - E -> F\n",
    "    - F -> Fin\n",
    "- Acceso inferior\n",
    "    - F -> G\n",
    "    - G -> Fin\n",
    "    \n",
    "|Referencia       |Tarea                          |Demora                         |\n",
    "|----------------|-------------------------------|-----------------------------|\n",
    "|A|Retirar alfombras|U(1, 5)|\n",
    "|B|Aplicar detergente|U(1, 3)|\n",
    "|C|Enjuagar alfombras|U(1, 4)|\n",
    "|D|Mojar vehículo|U(1, 6)|\n",
    "|E|Aplicar detergente|U(6, 12)|\n",
    "|E|Enjuagar vehículo|U(5, 10)|\n",
    "|E|Aspirar interiores|U(10, 15)|"
   ]
  },
  {
   "cell_type": "code",
   "execution_count": 25,
   "metadata": {},
   "outputs": [
    {
     "name": "stdout",
     "output_type": "stream",
     "text": [
      "El promedio muestral tiene un margen de error de [65.02196071079703, 65.64012303263749] con respecto al promedio poblacional (99% de probabilidad)\n",
      "Porcentaje de criticidad en 30 de 100 cada uno\n",
      "Acceso superior => 0.0\n",
      "Acceso medio => 0.0\n",
      "Acceso inferior => 100.0\n"
     ]
    }
   ],
   "source": [
    "contador_as = 0\n",
    "contador_am = 0\n",
    "contador_ai = 0\n",
    "duracion_proyectos = []\n",
    "duracion_proyectos_promedio_por_experimento = []\n",
    "promedio_total = 0\n",
    "\n",
    "for _ in range(MAX_EXPERIMENTOS):\n",
    "    promedio_por_experimento = 0\n",
    "    for _ in range(MAX_CORRIDAS):\n",
    "        tarea_a = np.random.uniform(low=1, high=5)\n",
    "        tarea_b = np.random.uniform(low=1, high=3)\n",
    "        tarea_c = np.random.uniform(low=1, high=3)\n",
    "        tarea_d = np.random.uniform(low=1, high=6)\n",
    "        tarea_e = np.random.uniform(low=6, high=12)\n",
    "        tarea_f = np.random.uniform(low=5, high=10)\n",
    "        tarea_g = np.random.uniform(low=10, high=15)\n",
    "        \n",
    "        acceso_superior = (tarea_a, tarea_b, tarea_c)\n",
    "        acceso_medio = (tarea_a, tarea_d, tarea_e, tarea_f)\n",
    "        acceso_inferior = (tarea_a, tarea_d,tarea_e, tarea_f, tarea_g)\n",
    "        \n",
    "        proyecto = {\n",
    "            ACCESO_SUPERIOR: acceso_superior,\n",
    "            ACCESO_MEDIO: acceso_medio,\n",
    "            ACCESO_INFERIOR: acceso_inferior\n",
    "        }\n",
    "        \n",
    "        # La duración del proyecto es la suma del tiempo de demora de todas las tareas\n",
    "        duracion_proyecto = sum(\n",
    "            (sum(acceso) for acceso in (acceso_superior, acceso_medio, acceso_inferior))\n",
    "        )\n",
    "        \n",
    "        promedio_por_experimento += duracion_proyecto\n",
    "        duracion_proyectos.append(duracion_proyecto)\n",
    "        \n",
    "        # El camino crítico es la ruta de tareas que demoran más tiempo en realizarse\n",
    "        camino_critico = max(proyecto, key=lambda acceso: sum(proyecto[acceso]))\n",
    "        \n",
    "        if camino_critico == ACCESO_SUPERIOR:\n",
    "            contador_as += 1\n",
    "            continue\n",
    "        if camino_critico == ACCESO_MEDIO:\n",
    "            contador_am += 1\n",
    "            continue\n",
    "        if camino_critico == ACCESO_INFERIOR:\n",
    "            contador_ai += 1\n",
    "            continue\n",
    "    duracion_proyectos_promedio_por_experimento.append(promedio_por_experimento/MAX_CORRIDAS)\n",
    "\n",
    "intervalo_confianza_max, intervalo_confianza_min = get_confidence_interval(\n",
    "    len(duracion_proyectos), \n",
    "    np.mean(duracion_proyectos), \n",
    "    np.std(duracion_proyectos),\n",
    "    z_value=2.57\n",
    ")\n",
    "print(f\"El promedio muestral tiene un margen de error de [{intervalo_confianza_min}, {intervalo_confianza_max}] \\\n",
    "con respecto al promedio poblacional (99% de probabilidad)\")\n",
    "print(f\"Porcentaje de criticidad en {MAX_EXPERIMENTOS} de {MAX_CORRIDAS} cada uno\")\n",
    "print(f\"Acceso superior => {(contador_as * 100) / (MAX_EXPERIMENTOS * MAX_CORRIDAS)}\")\n",
    "print(f\"Acceso medio => {(contador_am * 100) / (MAX_EXPERIMENTOS * MAX_CORRIDAS)}\")\n",
    "print(f\"Acceso inferior => {(contador_ai * 100) / (MAX_EXPERIMENTOS * MAX_CORRIDAS)}\")"
   ]
  },
  {
   "cell_type": "code",
   "execution_count": 26,
   "metadata": {
    "scrolled": true
   },
   "outputs": [
    {
     "data": {
      "text/plain": [
       "<matplotlib.axes._subplots.AxesSubplot at 0x7f55e91bc978>"
      ]
     },
     "execution_count": 26,
     "metadata": {},
     "output_type": "execute_result"
    },
    {
     "data": {
      "image/png": "[encoded data removed]",
      "text/plain": [
       "<Figure size 432x288 with 1 Axes>"
      ]
     },
     "metadata": {
      "needs_background": "light"
     },
     "output_type": "display_data"
    }
   ],
   "source": [
    "sns.distplot(duracion_proyectos)"
   ]
  },
  {
   "cell_type": "code",
   "execution_count": 27,
   "metadata": {},
   "outputs": [
    {
     "data": {
      "text/plain": [
       "<matplotlib.axes._subplots.AxesSubplot at 0x7f55e930e5f8>"
      ]
     },
     "execution_count": 27,
     "metadata": {},
     "output_type": "execute_result"
    },
    {
     "data": {
      "image/png": "[encoded data removed]",
      "text/plain": [
       "<Figure size 432x288 with 1 Axes>"
      ]
     },
     "metadata": {
      "needs_background": "light"
     },
     "output_type": "display_data"
    }
   ],
   "source": [
    "sns.distplot(duracion_proyectos_promedio_por_experimento)"
   ]
  }
 ],
 "metadata": {
  "kernelspec": {
   "display_name": "Python 3",
   "language": "python",
   "name": "python3"
  },
  "language_info": {
   "codemirror_mode": {
    "name": "ipython",
    "version": 3
   },
   "file_extension": ".py",
   "mimetype": "text/x-python",
   "name": "python",
   "nbconvert_exporter": "python",
   "pygments_lexer": "ipython3",
   "version": "3.7.2"
  }
 },
 "nbformat": 4,
 "nbformat_minor": 2
}
